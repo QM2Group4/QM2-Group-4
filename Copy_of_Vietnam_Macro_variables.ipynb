{
  "nbformat": 4,
  "nbformat_minor": 0,
  "metadata": {
    "colab": {
      "name": "Copy of Vietnam Macro variables.ipynb",
      "provenance": [],
      "authorship_tag": "ABX9TyMAIbsWFVYRNUbMA6lEP4rb",
      "include_colab_link": true
    },
    "kernelspec": {
      "name": "python3",
      "display_name": "Python 3"
    }
  },
  "cells": [
    {
      "cell_type": "markdown",
      "metadata": {
        "id": "view-in-github",
        "colab_type": "text"
      },
      "source": [
        "<a href=\"https://colab.research.google.com/github/kristinak15/QM2-Group-4/blob/main/Copy_of_Vietnam_Macro_variables.ipynb\" target=\"_parent\"><img src=\"https://colab.research.google.com/assets/colab-badge.svg\" alt=\"Open In Colab\"/></a>"
      ]
    },
    {
      "cell_type": "code",
      "metadata": {
        "id": "ehB3RN-IwnKN"
      },
      "source": [
        ""
      ],
      "execution_count": null,
      "outputs": []
    },
    {
      "cell_type": "markdown",
      "metadata": {
        "id": "DQTnuk8Hwn7o"
      },
      "source": [
        "First attempt to graph Vietnam maize and soy production and agriculture value added to GDP."
      ]
    },
    {
      "cell_type": "code",
      "metadata": {
        "id": "GaT7ZpSuwtFK"
      },
      "source": [
        "import pandas\n",
        "\n",
        "import matplotlib\n",
        "%matplotlib inline"
      ],
      "execution_count": null,
      "outputs": []
    },
    {
      "cell_type": "code",
      "metadata": {
        "id": "V380v4tVPj8D"
      },
      "source": [
        "value_added_a = pandas.read_csv('/content/Vietnam_value_added_agriculture.csv')"
      ],
      "execution_count": null,
      "outputs": []
    },
    {
      "cell_type": "code",
      "metadata": {
        "id": "wYiwlhnxQ-Xm",
        "outputId": "a8c6f60e-9d51-459d-c93a-9d3006e9255f",
        "colab": {
          "base_uri": "https://localhost:8080/",
          "height": 666
        }
      },
      "source": [
        "value_added_a.head()"
      ],
      "execution_count": null,
      "outputs": [
        {
          "output_type": "execute_result",
          "data": {
            "text/html": [
              "<div>\n",
              "<style scoped>\n",
              "    .dataframe tbody tr th:only-of-type {\n",
              "        vertical-align: middle;\n",
              "    }\n",
              "\n",
              "    .dataframe tbody tr th {\n",
              "        vertical-align: top;\n",
              "    }\n",
              "\n",
              "    .dataframe thead th {\n",
              "        text-align: right;\n",
              "    }\n",
              "</style>\n",
              "<table border=\"1\" class=\"dataframe\">\n",
              "  <thead>\n",
              "    <tr style=\"text-align: right;\">\n",
              "      <th></th>\n",
              "      <th>Domain Code</th>\n",
              "      <th>Domain</th>\n",
              "      <th>Area Code</th>\n",
              "      <th>Area</th>\n",
              "      <th>Element Code</th>\n",
              "      <th>Element</th>\n",
              "      <th>Item Code</th>\n",
              "      <th>Item</th>\n",
              "      <th>Year Code</th>\n",
              "      <th>Year</th>\n",
              "      <th>Unit</th>\n",
              "      <th>Value</th>\n",
              "      <th>Flag</th>\n",
              "      <th>Flag Description</th>\n",
              "      <th>Note</th>\n",
              "    </tr>\n",
              "  </thead>\n",
              "  <tbody>\n",
              "    <tr>\n",
              "      <th>0</th>\n",
              "      <td>MK</td>\n",
              "      <td>Macro Indicators</td>\n",
              "      <td>237</td>\n",
              "      <td>Viet Nam</td>\n",
              "      <td>6110</td>\n",
              "      <td>Value US$</td>\n",
              "      <td>22016</td>\n",
              "      <td>Value Added (Agriculture, Forestry and Fishing)</td>\n",
              "      <td>2005</td>\n",
              "      <td>2005</td>\n",
              "      <td>millions</td>\n",
              "      <td>11123.206188</td>\n",
              "      <td>X</td>\n",
              "      <td>International reliable sources</td>\n",
              "      <td>Data from UNSD AMA</td>\n",
              "    </tr>\n",
              "    <tr>\n",
              "      <th>1</th>\n",
              "      <td>MK</td>\n",
              "      <td>Macro Indicators</td>\n",
              "      <td>237</td>\n",
              "      <td>Viet Nam</td>\n",
              "      <td>6110</td>\n",
              "      <td>Value US$</td>\n",
              "      <td>22016</td>\n",
              "      <td>Value Added (Agriculture, Forestry and Fishing)</td>\n",
              "      <td>2006</td>\n",
              "      <td>2006</td>\n",
              "      <td>millions</td>\n",
              "      <td>12429.279272</td>\n",
              "      <td>X</td>\n",
              "      <td>International reliable sources</td>\n",
              "      <td>Data from UNSD AMA</td>\n",
              "    </tr>\n",
              "    <tr>\n",
              "      <th>2</th>\n",
              "      <td>MK</td>\n",
              "      <td>Macro Indicators</td>\n",
              "      <td>237</td>\n",
              "      <td>Viet Nam</td>\n",
              "      <td>6110</td>\n",
              "      <td>Value US$</td>\n",
              "      <td>22016</td>\n",
              "      <td>Value Added (Agriculture, Forestry and Fishing)</td>\n",
              "      <td>2007</td>\n",
              "      <td>2007</td>\n",
              "      <td>millions</td>\n",
              "      <td>14441.738267</td>\n",
              "      <td>X</td>\n",
              "      <td>International reliable sources</td>\n",
              "      <td>Data from UNSD AMA</td>\n",
              "    </tr>\n",
              "    <tr>\n",
              "      <th>3</th>\n",
              "      <td>MK</td>\n",
              "      <td>Macro Indicators</td>\n",
              "      <td>237</td>\n",
              "      <td>Viet Nam</td>\n",
              "      <td>6110</td>\n",
              "      <td>Value US$</td>\n",
              "      <td>22016</td>\n",
              "      <td>Value Added (Agriculture, Forestry and Fishing)</td>\n",
              "      <td>2008</td>\n",
              "      <td>2008</td>\n",
              "      <td>millions</td>\n",
              "      <td>20235.611649</td>\n",
              "      <td>X</td>\n",
              "      <td>International reliable sources</td>\n",
              "      <td>Data from UNSD AMA</td>\n",
              "    </tr>\n",
              "    <tr>\n",
              "      <th>4</th>\n",
              "      <td>MK</td>\n",
              "      <td>Macro Indicators</td>\n",
              "      <td>237</td>\n",
              "      <td>Viet Nam</td>\n",
              "      <td>6110</td>\n",
              "      <td>Value US$</td>\n",
              "      <td>22016</td>\n",
              "      <td>Value Added (Agriculture, Forestry and Fishing)</td>\n",
              "      <td>2009</td>\n",
              "      <td>2009</td>\n",
              "      <td>millions</td>\n",
              "      <td>20321.377472</td>\n",
              "      <td>X</td>\n",
              "      <td>International reliable sources</td>\n",
              "      <td>Data from UNSD AMA</td>\n",
              "    </tr>\n",
              "  </tbody>\n",
              "</table>\n",
              "</div>"
            ],
            "text/plain": [
              "  Domain Code  ...                Note\n",
              "0          MK  ...  Data from UNSD AMA\n",
              "1          MK  ...  Data from UNSD AMA\n",
              "2          MK  ...  Data from UNSD AMA\n",
              "3          MK  ...  Data from UNSD AMA\n",
              "4          MK  ...  Data from UNSD AMA\n",
              "\n",
              "[5 rows x 15 columns]"
            ]
          },
          "metadata": {
            "tags": []
          },
          "execution_count": 3
        }
      ]
    },
    {
      "cell_type": "code",
      "metadata": {
        "id": "PsS6ExWaRBTx"
      },
      "source": [
        "value_added_a.drop(columns=['Domain', 'Area Code', 'Area', 'Element Code', 'Element', 'Item Code', 'Year Code', 'Flag', 'Flag Description', 'Note'], inplace=True)"
      ],
      "execution_count": null,
      "outputs": []
    },
    {
      "cell_type": "code",
      "metadata": {
        "id": "uNSu0boARsP6"
      },
      "source": [
        "value_added_a.drop(columns=['Item'], inplace=True)"
      ],
      "execution_count": null,
      "outputs": []
    },
    {
      "cell_type": "code",
      "metadata": {
        "id": "ipAKnwFTUYIk",
        "outputId": "7ffe8698-5f27-4ab5-ecf3-8a81d7c18eea",
        "colab": {
          "base_uri": "https://localhost:8080/",
          "height": 204
        }
      },
      "source": [
        "value_added_a.head()"
      ],
      "execution_count": null,
      "outputs": [
        {
          "output_type": "execute_result",
          "data": {
            "text/html": [
              "<div>\n",
              "<style scoped>\n",
              "    .dataframe tbody tr th:only-of-type {\n",
              "        vertical-align: middle;\n",
              "    }\n",
              "\n",
              "    .dataframe tbody tr th {\n",
              "        vertical-align: top;\n",
              "    }\n",
              "\n",
              "    .dataframe thead th {\n",
              "        text-align: right;\n",
              "    }\n",
              "</style>\n",
              "<table border=\"1\" class=\"dataframe\">\n",
              "  <thead>\n",
              "    <tr style=\"text-align: right;\">\n",
              "      <th></th>\n",
              "      <th>Year</th>\n",
              "      <th>Unit</th>\n",
              "      <th>Value</th>\n",
              "    </tr>\n",
              "  </thead>\n",
              "  <tbody>\n",
              "    <tr>\n",
              "      <th>0</th>\n",
              "      <td>2005</td>\n",
              "      <td>millions</td>\n",
              "      <td>11123.206188</td>\n",
              "    </tr>\n",
              "    <tr>\n",
              "      <th>1</th>\n",
              "      <td>2006</td>\n",
              "      <td>millions</td>\n",
              "      <td>12429.279272</td>\n",
              "    </tr>\n",
              "    <tr>\n",
              "      <th>2</th>\n",
              "      <td>2007</td>\n",
              "      <td>millions</td>\n",
              "      <td>14441.738267</td>\n",
              "    </tr>\n",
              "    <tr>\n",
              "      <th>3</th>\n",
              "      <td>2008</td>\n",
              "      <td>millions</td>\n",
              "      <td>20235.611649</td>\n",
              "    </tr>\n",
              "    <tr>\n",
              "      <th>4</th>\n",
              "      <td>2009</td>\n",
              "      <td>millions</td>\n",
              "      <td>20321.377472</td>\n",
              "    </tr>\n",
              "  </tbody>\n",
              "</table>\n",
              "</div>"
            ],
            "text/plain": [
              "   Year      Unit         Value\n",
              "0  2005  millions  11123.206188\n",
              "1  2006  millions  12429.279272\n",
              "2  2007  millions  14441.738267\n",
              "3  2008  millions  20235.611649\n",
              "4  2009  millions  20321.377472"
            ]
          },
          "metadata": {
            "tags": []
          },
          "execution_count": 19
        }
      ]
    },
    {
      "cell_type": "code",
      "metadata": {
        "id": "gXX56iGZUkP7",
        "outputId": "87a8a5d4-d990-46eb-973d-5d0c7e2ada35",
        "colab": {
          "base_uri": "https://localhost:8080/",
          "height": 296
        }
      },
      "source": [
        "value_added_a.plot.scatter(x='Year', y='Value')"
      ],
      "execution_count": null,
      "outputs": [
        {
          "output_type": "execute_result",
          "data": {
            "text/plain": [
              "<matplotlib.axes._subplots.AxesSubplot at 0x7f71b86db9e8>"
            ]
          },
          "metadata": {
            "tags": []
          },
          "execution_count": 23
        },
        {
          "output_type": "display_data",
          "data": {
            "image/png": "[encoded data removed]",
            "text/plain": [
              "<Figure size 432x288 with 1 Axes>"
            ]
          },
          "metadata": {
            "tags": [],
            "needs_background": "light"
          }
        }
      ]
    },
    {
      "cell_type": "code",
      "metadata": {
        "id": "RyJ7GUM7U_o9"
      },
      "source": [
        "crops_harvest = pandas.read_csv('/content/Vietnam_crops_harvested.csv')"
      ],
      "execution_count": null,
      "outputs": []
    },
    {
      "cell_type": "code",
      "metadata": {
        "id": "AK17ZjenWzwx",
        "outputId": "e0371954-7b7e-471a-9582-7526a3ae9cb1",
        "colab": {
          "base_uri": "https://localhost:8080/",
          "height": 326
        }
      },
      "source": [
        "crops_harvest.head()"
      ],
      "execution_count": null,
      "outputs": [
        {
          "output_type": "execute_result",
          "data": {
            "text/html": [
              "<div>\n",
              "<style scoped>\n",
              "    .dataframe tbody tr th:only-of-type {\n",
              "        vertical-align: middle;\n",
              "    }\n",
              "\n",
              "    .dataframe tbody tr th {\n",
              "        vertical-align: top;\n",
              "    }\n",
              "\n",
              "    .dataframe thead th {\n",
              "        text-align: right;\n",
              "    }\n",
              "</style>\n",
              "<table border=\"1\" class=\"dataframe\">\n",
              "  <thead>\n",
              "    <tr style=\"text-align: right;\">\n",
              "      <th></th>\n",
              "      <th>Domain Code</th>\n",
              "      <th>Domain</th>\n",
              "      <th>Area Code</th>\n",
              "      <th>Area</th>\n",
              "      <th>Element Code</th>\n",
              "      <th>Element</th>\n",
              "      <th>Item Code</th>\n",
              "      <th>Item</th>\n",
              "      <th>Year Code</th>\n",
              "      <th>Year</th>\n",
              "      <th>Value</th>\n",
              "    </tr>\n",
              "  </thead>\n",
              "  <tbody>\n",
              "    <tr>\n",
              "      <th>0</th>\n",
              "      <td>QC</td>\n",
              "      <td>Crops</td>\n",
              "      <td>237</td>\n",
              "      <td>Viet Nam</td>\n",
              "      <td>5312</td>\n",
              "      <td>Area harvested</td>\n",
              "      <td>56</td>\n",
              "      <td>Maize</td>\n",
              "      <td>2005</td>\n",
              "      <td>2005</td>\n",
              "      <td>1052600</td>\n",
              "    </tr>\n",
              "    <tr>\n",
              "      <th>1</th>\n",
              "      <td>QC</td>\n",
              "      <td>Crops</td>\n",
              "      <td>237</td>\n",
              "      <td>Viet Nam</td>\n",
              "      <td>5312</td>\n",
              "      <td>Area harvested</td>\n",
              "      <td>56</td>\n",
              "      <td>Maize</td>\n",
              "      <td>2006</td>\n",
              "      <td>2006</td>\n",
              "      <td>1033100</td>\n",
              "    </tr>\n",
              "    <tr>\n",
              "      <th>2</th>\n",
              "      <td>QC</td>\n",
              "      <td>Crops</td>\n",
              "      <td>237</td>\n",
              "      <td>Viet Nam</td>\n",
              "      <td>5312</td>\n",
              "      <td>Area harvested</td>\n",
              "      <td>56</td>\n",
              "      <td>Maize</td>\n",
              "      <td>2007</td>\n",
              "      <td>2007</td>\n",
              "      <td>1096100</td>\n",
              "    </tr>\n",
              "    <tr>\n",
              "      <th>3</th>\n",
              "      <td>QC</td>\n",
              "      <td>Crops</td>\n",
              "      <td>237</td>\n",
              "      <td>Viet Nam</td>\n",
              "      <td>5312</td>\n",
              "      <td>Area harvested</td>\n",
              "      <td>56</td>\n",
              "      <td>Maize</td>\n",
              "      <td>2008</td>\n",
              "      <td>2008</td>\n",
              "      <td>1440200</td>\n",
              "    </tr>\n",
              "    <tr>\n",
              "      <th>4</th>\n",
              "      <td>QC</td>\n",
              "      <td>Crops</td>\n",
              "      <td>237</td>\n",
              "      <td>Viet Nam</td>\n",
              "      <td>5312</td>\n",
              "      <td>Area harvested</td>\n",
              "      <td>56</td>\n",
              "      <td>Maize</td>\n",
              "      <td>2009</td>\n",
              "      <td>2009</td>\n",
              "      <td>1089200</td>\n",
              "    </tr>\n",
              "  </tbody>\n",
              "</table>\n",
              "</div>"
            ],
            "text/plain": [
              "  Domain Code Domain  Area Code      Area  ...   Item Year Code  Year    Value\n",
              "0          QC  Crops        237  Viet Nam  ...  Maize      2005  2005  1052600\n",
              "1          QC  Crops        237  Viet Nam  ...  Maize      2006  2006  1033100\n",
              "2          QC  Crops        237  Viet Nam  ...  Maize      2007  2007  1096100\n",
              "3          QC  Crops        237  Viet Nam  ...  Maize      2008  2008  1440200\n",
              "4          QC  Crops        237  Viet Nam  ...  Maize      2009  2009  1089200\n",
              "\n",
              "[5 rows x 11 columns]"
            ]
          },
          "metadata": {
            "tags": []
          },
          "execution_count": 26
        }
      ]
    },
    {
      "cell_type": "code",
      "metadata": {
        "id": "ZkadMmtEXFoN"
      },
      "source": [
        "crops_harvest.drop(columns=['Domain Code', 'Domain', 'Area Code', 'Area', 'Element Code','Item Code', 'Year Code'], inplace=True)"
      ],
      "execution_count": null,
      "outputs": []
    },
    {
      "cell_type": "code",
      "metadata": {
        "id": "zLIEigr1Xh7W",
        "outputId": "ee81aa45-981c-4399-93d0-695523847fb2",
        "colab": {
          "base_uri": "https://localhost:8080/",
          "height": 204
        }
      },
      "source": [
        "crops_harvest.head()"
      ],
      "execution_count": null,
      "outputs": [
        {
          "output_type": "execute_result",
          "data": {
            "text/html": [
              "<div>\n",
              "<style scoped>\n",
              "    .dataframe tbody tr th:only-of-type {\n",
              "        vertical-align: middle;\n",
              "    }\n",
              "\n",
              "    .dataframe tbody tr th {\n",
              "        vertical-align: top;\n",
              "    }\n",
              "\n",
              "    .dataframe thead th {\n",
              "        text-align: right;\n",
              "    }\n",
              "</style>\n",
              "<table border=\"1\" class=\"dataframe\">\n",
              "  <thead>\n",
              "    <tr style=\"text-align: right;\">\n",
              "      <th></th>\n",
              "      <th>Element</th>\n",
              "      <th>Item</th>\n",
              "      <th>Year</th>\n",
              "      <th>Value</th>\n",
              "    </tr>\n",
              "  </thead>\n",
              "  <tbody>\n",
              "    <tr>\n",
              "      <th>0</th>\n",
              "      <td>Area harvested</td>\n",
              "      <td>Maize</td>\n",
              "      <td>2005</td>\n",
              "      <td>1052600</td>\n",
              "    </tr>\n",
              "    <tr>\n",
              "      <th>1</th>\n",
              "      <td>Area harvested</td>\n",
              "      <td>Maize</td>\n",
              "      <td>2006</td>\n",
              "      <td>1033100</td>\n",
              "    </tr>\n",
              "    <tr>\n",
              "      <th>2</th>\n",
              "      <td>Area harvested</td>\n",
              "      <td>Maize</td>\n",
              "      <td>2007</td>\n",
              "      <td>1096100</td>\n",
              "    </tr>\n",
              "    <tr>\n",
              "      <th>3</th>\n",
              "      <td>Area harvested</td>\n",
              "      <td>Maize</td>\n",
              "      <td>2008</td>\n",
              "      <td>1440200</td>\n",
              "    </tr>\n",
              "    <tr>\n",
              "      <th>4</th>\n",
              "      <td>Area harvested</td>\n",
              "      <td>Maize</td>\n",
              "      <td>2009</td>\n",
              "      <td>1089200</td>\n",
              "    </tr>\n",
              "  </tbody>\n",
              "</table>\n",
              "</div>"
            ],
            "text/plain": [
              "          Element   Item  Year    Value\n",
              "0  Area harvested  Maize  2005  1052600\n",
              "1  Area harvested  Maize  2006  1033100\n",
              "2  Area harvested  Maize  2007  1096100\n",
              "3  Area harvested  Maize  2008  1440200\n",
              "4  Area harvested  Maize  2009  1089200"
            ]
          },
          "metadata": {
            "tags": []
          },
          "execution_count": 30
        }
      ]
    },
    {
      "cell_type": "code",
      "metadata": {
        "id": "kfB3gA6RXt7j"
      },
      "source": [
        ""
      ],
      "execution_count": null,
      "outputs": []
    }
  ]
}