{
  "nbformat": 4,
  "nbformat_minor": 0,
  "metadata": {
    "colab": {
      "name": "US GM crops Visualisations.ipynb",
      "provenance": [],
      "authorship_tag": "ABX9TyPkS1S0GWPxfI1BX1efvFlP",
      "include_colab_link": true
    },
    "kernelspec": {
      "name": "python3",
      "display_name": "Python 3"
    }
  },
  "cells": [
    {
      "cell_type": "markdown",
      "metadata": {
        "id": "view-in-github",
        "colab_type": "text"
      },
      "source": [
        "<a href=\"https://colab.research.google.com/github/kristinak15/QM2-Group-4/blob/main/US_GM_crops_Visualisations.ipynb\" target=\"_parent\"><img src=\"https://colab.research.google.com/assets/colab-badge.svg\" alt=\"Open In Colab\"/></a>"
      ]
    },
    {
      "cell_type": "markdown",
      "metadata": {
        "id": "fvHJPpPul0fb"
      },
      "source": [
        "Exploring the GM production dataset"
      ]
    },
    {
      "cell_type": "code",
      "metadata": {
        "id": "WGi8QQwMzEWt"
      },
      "source": [
        "import pandas as pd\n",
        "\n",
        "import matplotlib\n",
        "%matplotlib inline\n",
        "\n",
        "import matplotlib.pyplot as plt\n",
        "import numpy as np"
      ],
      "execution_count": 2,
      "outputs": []
    },
    {
      "cell_type": "code",
      "metadata": {
        "id": "ClJZEmA-mBRy",
        "outputId": "d6e9cdc8-f1bb-4cb4-81bd-ce88721cbb0a",
        "colab": {
          "base_uri": "https://localhost:8080/",
          "height": 289
        }
      },
      "source": [
        "US_gm_crops = pd.read_csv('/content/sample_data/alltablesGEcrops.csv')\n",
        "US_gm_crops.head()"
      ],
      "execution_count": 4,
      "outputs": [
        {
          "output_type": "execute_result",
          "data": {
            "text/html": [
              "<div>\n",
              "<style scoped>\n",
              "    .dataframe tbody tr th:only-of-type {\n",
              "        vertical-align: middle;\n",
              "    }\n",
              "\n",
              "    .dataframe tbody tr th {\n",
              "        vertical-align: top;\n",
              "    }\n",
              "\n",
              "    .dataframe thead th {\n",
              "        text-align: right;\n",
              "    }\n",
              "</style>\n",
              "<table border=\"1\" class=\"dataframe\">\n",
              "  <thead>\n",
              "    <tr style=\"text-align: right;\">\n",
              "      <th></th>\n",
              "      <th>Table</th>\n",
              "      <th>Unit</th>\n",
              "      <th>Variety</th>\n",
              "      <th>Year</th>\n",
              "      <th>Attribute</th>\n",
              "      <th>Value</th>\n",
              "    </tr>\n",
              "  </thead>\n",
              "  <tbody>\n",
              "    <tr>\n",
              "      <th>0</th>\n",
              "      <td>Genetically engineered (GE) corn varieties</td>\n",
              "      <td>Percent of corn planted</td>\n",
              "      <td>Insect-resistant (Bt) only                    ...</td>\n",
              "      <td>2000</td>\n",
              "      <td>Illinois</td>\n",
              "      <td>13</td>\n",
              "    </tr>\n",
              "    <tr>\n",
              "      <th>1</th>\n",
              "      <td>Genetically engineered (GE) corn varieties</td>\n",
              "      <td>Percent of corn planted</td>\n",
              "      <td>Insect-resistant (Bt) only                    ...</td>\n",
              "      <td>2000</td>\n",
              "      <td>Indiana</td>\n",
              "      <td>7</td>\n",
              "    </tr>\n",
              "    <tr>\n",
              "      <th>2</th>\n",
              "      <td>Genetically engineered (GE) corn varieties</td>\n",
              "      <td>Percent of corn planted</td>\n",
              "      <td>Insect-resistant (Bt) only                    ...</td>\n",
              "      <td>2000</td>\n",
              "      <td>Iowa</td>\n",
              "      <td>23</td>\n",
              "    </tr>\n",
              "    <tr>\n",
              "      <th>3</th>\n",
              "      <td>Genetically engineered (GE) corn varieties</td>\n",
              "      <td>Percent of corn planted</td>\n",
              "      <td>Insect-resistant (Bt) only                    ...</td>\n",
              "      <td>2000</td>\n",
              "      <td>Kansas</td>\n",
              "      <td>25</td>\n",
              "    </tr>\n",
              "    <tr>\n",
              "      <th>4</th>\n",
              "      <td>Genetically engineered (GE) corn varieties</td>\n",
              "      <td>Percent of corn planted</td>\n",
              "      <td>Insect-resistant (Bt) only                    ...</td>\n",
              "      <td>2000</td>\n",
              "      <td>Michigan</td>\n",
              "      <td>8</td>\n",
              "    </tr>\n",
              "  </tbody>\n",
              "</table>\n",
              "</div>"
            ],
            "text/plain": [
              "                                        Table  ... Value\n",
              "0  Genetically engineered (GE) corn varieties  ...    13\n",
              "1  Genetically engineered (GE) corn varieties  ...     7\n",
              "2  Genetically engineered (GE) corn varieties  ...    23\n",
              "3  Genetically engineered (GE) corn varieties  ...    25\n",
              "4  Genetically engineered (GE) corn varieties  ...     8\n",
              "\n",
              "[5 rows x 6 columns]"
            ]
          },
          "metadata": {
            "tags": []
          },
          "execution_count": 4
        }
      ]
    },
    {
      "cell_type": "markdown",
      "metadata": {
        "id": "RJPSX-40nV5g"
      },
      "source": [
        "Cleaning the data, getting rid of asterisks and full stops"
      ]
    },
    {
      "cell_type": "code",
      "metadata": {
        "id": "I3F3R1c4mBjb"
      },
      "source": [
        "US_gm_crops=US_gm_crops.drop(columns='Table')"
      ],
      "execution_count": 35,
      "outputs": []
    },
    {
      "cell_type": "code",
      "metadata": {
        "id": "L9VKZ1XpmWNg"
      },
      "source": [
        "US_gm_crops[\"Value\"].replace({\".\": \"0\"}, inplace=True)"
      ],
      "execution_count": 6,
      "outputs": []
    },
    {
      "cell_type": "code",
      "metadata": {
        "id": "RUlEPqONmco7"
      },
      "source": [
        "US_gm_crops[\"Value\"].replace({\"*\": \"0\"}, inplace=True)"
      ],
      "execution_count": 8,
      "outputs": []
    },
    {
      "cell_type": "markdown",
      "metadata": {
        "id": "yhJfJvwZncZ-"
      },
      "source": [
        "Converting the Value column to integers for graphing"
      ]
    },
    {
      "cell_type": "code",
      "metadata": {
        "id": "AmZoJKidmefb"
      },
      "source": [
        "US_gm_crops[\"Value\"]=US_gm_crops[\"Value\"].astype(float).astype(int)"
      ],
      "execution_count": 9,
      "outputs": []
    },
    {
      "cell_type": "code",
      "metadata": {
        "id": "cFoyQ14hmnIo",
        "outputId": "d1662caa-142e-4bf4-b2d4-d2e3483fba72",
        "colab": {
          "base_uri": "https://localhost:8080/",
          "height": 289
        }
      },
      "source": [
        "US_gm_crops.head()"
      ],
      "execution_count": 11,
      "outputs": [
        {
          "output_type": "execute_result",
          "data": {
            "text/html": [
              "<div>\n",
              "<style scoped>\n",
              "    .dataframe tbody tr th:only-of-type {\n",
              "        vertical-align: middle;\n",
              "    }\n",
              "\n",
              "    .dataframe tbody tr th {\n",
              "        vertical-align: top;\n",
              "    }\n",
              "\n",
              "    .dataframe thead th {\n",
              "        text-align: right;\n",
              "    }\n",
              "</style>\n",
              "<table border=\"1\" class=\"dataframe\">\n",
              "  <thead>\n",
              "    <tr style=\"text-align: right;\">\n",
              "      <th></th>\n",
              "      <th>Table</th>\n",
              "      <th>Unit</th>\n",
              "      <th>Variety</th>\n",
              "      <th>Year</th>\n",
              "      <th>Attribute</th>\n",
              "      <th>Value</th>\n",
              "    </tr>\n",
              "  </thead>\n",
              "  <tbody>\n",
              "    <tr>\n",
              "      <th>0</th>\n",
              "      <td>Genetically engineered (GE) corn varieties</td>\n",
              "      <td>Percent of corn planted</td>\n",
              "      <td>Insect-resistant (Bt) only                    ...</td>\n",
              "      <td>2000</td>\n",
              "      <td>Illinois</td>\n",
              "      <td>13</td>\n",
              "    </tr>\n",
              "    <tr>\n",
              "      <th>1</th>\n",
              "      <td>Genetically engineered (GE) corn varieties</td>\n",
              "      <td>Percent of corn planted</td>\n",
              "      <td>Insect-resistant (Bt) only                    ...</td>\n",
              "      <td>2000</td>\n",
              "      <td>Indiana</td>\n",
              "      <td>7</td>\n",
              "    </tr>\n",
              "    <tr>\n",
              "      <th>2</th>\n",
              "      <td>Genetically engineered (GE) corn varieties</td>\n",
              "      <td>Percent of corn planted</td>\n",
              "      <td>Insect-resistant (Bt) only                    ...</td>\n",
              "      <td>2000</td>\n",
              "      <td>Iowa</td>\n",
              "      <td>23</td>\n",
              "    </tr>\n",
              "    <tr>\n",
              "      <th>3</th>\n",
              "      <td>Genetically engineered (GE) corn varieties</td>\n",
              "      <td>Percent of corn planted</td>\n",
              "      <td>Insect-resistant (Bt) only                    ...</td>\n",
              "      <td>2000</td>\n",
              "      <td>Kansas</td>\n",
              "      <td>25</td>\n",
              "    </tr>\n",
              "    <tr>\n",
              "      <th>4</th>\n",
              "      <td>Genetically engineered (GE) corn varieties</td>\n",
              "      <td>Percent of corn planted</td>\n",
              "      <td>Insect-resistant (Bt) only                    ...</td>\n",
              "      <td>2000</td>\n",
              "      <td>Michigan</td>\n",
              "      <td>8</td>\n",
              "    </tr>\n",
              "  </tbody>\n",
              "</table>\n",
              "</div>"
            ],
            "text/plain": [
              "                                        Table  ... Value\n",
              "0  Genetically engineered (GE) corn varieties  ...    13\n",
              "1  Genetically engineered (GE) corn varieties  ...     7\n",
              "2  Genetically engineered (GE) corn varieties  ...    23\n",
              "3  Genetically engineered (GE) corn varieties  ...    25\n",
              "4  Genetically engineered (GE) corn varieties  ...     8\n",
              "\n",
              "[5 rows x 6 columns]"
            ]
          },
          "metadata": {
            "tags": []
          },
          "execution_count": 11
        }
      ]
    },
    {
      "cell_type": "code",
      "metadata": {
        "id": "N_wnaH1smo1V",
        "outputId": "956dda01-eb79-4231-c0c1-e376e90c828e",
        "colab": {
          "base_uri": "https://localhost:8080/"
        }
      },
      "source": [
        "US_gm_crops.dtypes"
      ],
      "execution_count": 12,
      "outputs": [
        {
          "output_type": "execute_result",
          "data": {
            "text/plain": [
              "Table        object\n",
              "Unit         object\n",
              "Variety      object\n",
              "Year          int64\n",
              "Attribute    object\n",
              "Value         int64\n",
              "dtype: object"
            ]
          },
          "metadata": {
            "tags": []
          },
          "execution_count": 12
        }
      ]
    },
    {
      "cell_type": "markdown",
      "metadata": {
        "id": "Fh-8-yWdm4zE"
      },
      "source": [
        "---"
      ]
    },
    {
      "cell_type": "markdown",
      "metadata": {
        "id": "iOkJN3Gcm50x"
      },
      "source": [
        "Separating the data frame into smaller data frames in order to graph them"
      ]
    },
    {
      "cell_type": "code",
      "metadata": {
        "id": "UNTNY-C6muzH"
      },
      "source": [
        "gm_corn_general = US_gm_crops[(US_gm_crops['Variety']=='All GE varieties') & (US_gm_crops['Attribute']=='U.S.')&(US_gm_crops['Unit']=='Percent of corn planted')]"
      ],
      "execution_count": 13,
      "outputs": []
    },
    {
      "cell_type": "code",
      "metadata": {
        "id": "jHIFcl6Ym3q5"
      },
      "source": [
        "gm_soy_general = US_gm_crops[(US_gm_crops['Attribute']=='U.S.') & (US_gm_crops['Unit']=='Percent of all soybeans planted')& (US_gm_crops['Variety']=='Herbicide-tolerant only')]"
      ],
      "execution_count": 67,
      "outputs": []
    },
    {
      "cell_type": "code",
      "metadata": {
        "id": "GvLh9tzHnlp7"
      },
      "source": [
        "gm_cotton_general = US_gm_crops[(US_gm_crops['Variety']=='All GE varieties') & (US_gm_crops['Attribute']=='U.S.')&(US_gm_crops['Unit']=='Percent of upland cotton planted')]"
      ],
      "execution_count": 22,
      "outputs": []
    },
    {
      "cell_type": "code",
      "metadata": {
        "id": "2ceLdo3vnnmN",
        "outputId": "bb0cdf59-5316-4540-ae0d-52c926142c7b",
        "colab": {
          "base_uri": "https://localhost:8080/",
          "height": 296
        }
      },
      "source": [
        "gm_corn_general.plot(x='Year', y='Value')"
      ],
      "execution_count": 17,
      "outputs": [
        {
          "output_type": "execute_result",
          "data": {
            "text/plain": [
              "<matplotlib.axes._subplots.AxesSubplot at 0x7fa31bb30dd8>"
            ]
          },
          "metadata": {
            "tags": []
          },
          "execution_count": 17
        },
        {
          "output_type": "display_data",
          "data": {
            "image/png": "[encoded data removed]",
            "text/plain": [
              "<Figure size 432x288 with 1 Axes>"
            ]
          },
          "metadata": {
            "tags": [],
            "needs_background": "light"
          }
        }
      ]
    },
    {
      "cell_type": "code",
      "metadata": {
        "id": "3Mj-3sqJs_aF",
        "outputId": "26d97dee-5c3a-4a75-833f-57ac4b5761b2",
        "colab": {
          "base_uri": "https://localhost:8080/",
          "height": 293
        }
      },
      "source": [
        "gm_cotton_general.plot(x='Year', y='Value')"
      ],
      "execution_count": 85,
      "outputs": [
        {
          "output_type": "execute_result",
          "data": {
            "text/plain": [
              "<matplotlib.axes._subplots.AxesSubplot at 0x7fa3112e6dd8>"
            ]
          },
          "metadata": {
            "tags": []
          },
          "execution_count": 85
        },
        {
          "output_type": "display_data",
          "data": {
            "image/png": "[encoded data removed]",
            "text/plain": [
              "<Figure size 432x288 with 1 Axes>"
            ]
          },
          "metadata": {
            "tags": []
          }
        }
      ]
    },
    {
      "cell_type": "code",
      "metadata": {
        "id": "MtUQcxnBnr37",
        "outputId": "693b3fb3-6b05-49ec-f902-edf845e1511e",
        "colab": {
          "base_uri": "https://localhost:8080/",
          "height": 296
        }
      },
      "source": [
        "gm_soy_general.plot(x='Year', y='Value')"
      ],
      "execution_count": 68,
      "outputs": [
        {
          "output_type": "execute_result",
          "data": {
            "text/plain": [
              "<matplotlib.axes._subplots.AxesSubplot at 0x7fa3116e3828>"
            ]
          },
          "metadata": {
            "tags": []
          },
          "execution_count": 68
        },
        {
          "output_type": "display_data",
          "data": {
            "image/png": "[encoded data removed]",
            "text/plain": [
              "<Figure size 432x288 with 1 Axes>"
            ]
          },
          "metadata": {
            "tags": [],
            "needs_background": "light"
          }
        }
      ]
    },
    {
      "cell_type": "code",
      "metadata": {
        "id": "SS2cd07jtUW5",
        "outputId": "b53e1980-2a65-470b-b4cd-a9ff4698d754",
        "colab": {
          "base_uri": "https://localhost:8080/",
          "height": 297
        }
      },
      "source": [
        "gm_corn_general.describe()"
      ],
      "execution_count": 70,
      "outputs": [
        {
          "output_type": "execute_result",
          "data": {
            "text/html": [
              "<div>\n",
              "<style scoped>\n",
              "    .dataframe tbody tr th:only-of-type {\n",
              "        vertical-align: middle;\n",
              "    }\n",
              "\n",
              "    .dataframe tbody tr th {\n",
              "        vertical-align: top;\n",
              "    }\n",
              "\n",
              "    .dataframe thead th {\n",
              "        text-align: right;\n",
              "    }\n",
              "</style>\n",
              "<table border=\"1\" class=\"dataframe\">\n",
              "  <thead>\n",
              "    <tr style=\"text-align: right;\">\n",
              "      <th></th>\n",
              "      <th>Year</th>\n",
              "      <th>Value</th>\n",
              "    </tr>\n",
              "  </thead>\n",
              "  <tbody>\n",
              "    <tr>\n",
              "      <th>count</th>\n",
              "      <td>21.000000</td>\n",
              "      <td>21.000000</td>\n",
              "    </tr>\n",
              "    <tr>\n",
              "      <th>mean</th>\n",
              "      <td>2010.000000</td>\n",
              "      <td>72.380952</td>\n",
              "    </tr>\n",
              "    <tr>\n",
              "      <th>std</th>\n",
              "      <td>6.204837</td>\n",
              "      <td>24.538696</td>\n",
              "    </tr>\n",
              "    <tr>\n",
              "      <th>min</th>\n",
              "      <td>2000.000000</td>\n",
              "      <td>25.000000</td>\n",
              "    </tr>\n",
              "    <tr>\n",
              "      <th>25%</th>\n",
              "      <td>2005.000000</td>\n",
              "      <td>52.000000</td>\n",
              "    </tr>\n",
              "    <tr>\n",
              "      <th>50%</th>\n",
              "      <td>2010.000000</td>\n",
              "      <td>86.000000</td>\n",
              "    </tr>\n",
              "    <tr>\n",
              "      <th>75%</th>\n",
              "      <td>2015.000000</td>\n",
              "      <td>92.000000</td>\n",
              "    </tr>\n",
              "    <tr>\n",
              "      <th>max</th>\n",
              "      <td>2020.000000</td>\n",
              "      <td>93.000000</td>\n",
              "    </tr>\n",
              "  </tbody>\n",
              "</table>\n",
              "</div>"
            ],
            "text/plain": [
              "              Year      Value\n",
              "count    21.000000  21.000000\n",
              "mean   2010.000000  72.380952\n",
              "std       6.204837  24.538696\n",
              "min    2000.000000  25.000000\n",
              "25%    2005.000000  52.000000\n",
              "50%    2010.000000  86.000000\n",
              "75%    2015.000000  92.000000\n",
              "max    2020.000000  93.000000"
            ]
          },
          "metadata": {
            "tags": []
          },
          "execution_count": 70
        }
      ]
    },
    {
      "cell_type": "code",
      "metadata": {
        "id": "9UWAFtAVuw2g"
      },
      "source": [
        "plt.style.use('seaborn-darkgrid')\n",
        "palette = plt.get_cmap('Set1')\n",
        "\n"
      ],
      "execution_count": 72,
      "outputs": []
    },
    {
      "cell_type": "code",
      "metadata": {
        "id": "sM4MCr2OvLLr",
        "outputId": "22d359c8-ce84-478b-87f1-37d3ec586dc3",
        "colab": {
          "base_uri": "https://localhost:8080/",
          "height": 291
        }
      },
      "source": [
        "ax = gm_corn_general.plot(x='Year', y = 'Value', kind = 'line', color = 'yellow', label='Corn')\n",
        "gm_cotton_general.plot(x='Year', y = 'Value', kind = 'line', label='Cotton', ax=ax)\n",
        "gm_soy_general.plot(x='Year', y = 'Value', kind = 'line', label='Soybeans', ax=ax)\n",
        "\n",
        "plt.legend(loc=8, ncol=8)\n",
        "plt.title(\"Comparing GE corn, cotton and soybeans production in the U.S.\", loc='left', fontsize=12, fontweight=0, color='black')\n",
        "plt.xlabel(\"Year\")\n",
        "plt.ylabel(\"GM % of total crops produced\")\n",
        "plt.xticks(np.arange(2000, 2022, 2))\n",
        "\n",
        "plt.savefig('general_gm_crops.png')"
      ],
      "execution_count": 106,
      "outputs": [
        {
          "output_type": "display_data",
          "data": {
            "image/png": "[encoded data removed]",
            "text/plain": [
              "<Figure size 432x288 with 1 Axes>"
            ]
          },
          "metadata": {
            "tags": []
          }
        }
      ]
    },
    {
      "cell_type": "code",
      "metadata": {
        "id": "W5VnqolJwlzA"
      },
      "source": [
        ""
      ],
      "execution_count": null,
      "outputs": []
    }
  ]
}